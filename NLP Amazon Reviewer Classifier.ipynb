{
 "cells": [
  {
   "cell_type": "markdown",
   "id": "3eaaa8e3-e688-4bd2-a361-ff8161ac953c",
   "metadata": {},
   "source": [
    "# Amazon Reviewer Classifier: NLP Project\r\n",
    "\r\n",
    "This project classifies Amazon customer reviews to identify which of two reviewers (**Outdoor Enthusiast** or **Ronny Acosta**) wrote a given review. It uses **Naive Bayes** classification with **TF-IDF** and **Bag of Words** NLP techniques to process review text. The dataset contains **495 reviews** from a CSV file with `reviewer` (label) and `review` (text) columns.\r\n",
    "\r\n",
    "**Why This Project?**  \r\n",
    "- Demonstrates core NLP skills: text preprocessing, feature extraction, and classification.  \r\n",
    "- Achieve4 **~92% accuracy** on a test set, showcasing effective modeling.  \r\n",
    "- Suitable for beginners learning NLP or building a data science portfolio.\r\n",
    "\r\n",
    "**Project Structure**:  \r\n",
    "1. **Exploratory Data Analysis (EDA)**: Visualizes reviewer distribution and review lengths to understand the data.  \r\n",
    "2. **Text Preprocessing and Vectorization**: Cleans text (removes numbers, punctuation, stopwords) and applies Bag of Words and TF-IDF.  \r\n",
    "3. **Model Building and Evaluation**: Trains a Naive Bayes classifier and evaluates performance with accuracy, precision, recall, and confusion matrix.\r\n",
    "\r\n",
    "**How to Use**:  \r\n",
    "- Run in **Google Colab** or Jupyter with `Amazon_Customdue to privacy).  \r\n",
    "- Requires libraries: `pandas`, `numpy`, `scikit-learn`, `nltk`, `matplotlib`, `seaborn`."
   ]
  },
  {
   "cell_type": "code",
   "execution_count": 1,
   "id": "8c78ed4c-a132-48c9-bb02-5f9170be15bf",
   "metadata": {
    "execution": {
     "iopub.execute_input": "2025-08-14T08:18:37.104173Z",
     "iopub.status.busy": "2025-08-14T08:18:37.103799Z",
     "iopub.status.idle": "2025-08-14T08:18:39.148547Z",
     "shell.execute_reply": "2025-08-14T08:18:39.147512Z",
     "shell.execute_reply.started": "2025-08-14T08:18:37.104149Z"
    }
   },
   "outputs": [],
   "source": [
    "#Import libraries\n",
    "import pandas as pd\n",
    "import numpy as np\n",
    "import matplotlib.pyplot as plt\n",
    "import seaborn as sns"
   ]
  },
  {
   "cell_type": "code",
   "execution_count": 4,
   "id": "b30a029b-1593-43ce-8e99-48e9795b2b5c",
   "metadata": {
    "execution": {
     "iopub.execute_input": "2025-08-14T08:19:24.883022Z",
     "iopub.status.busy": "2025-08-14T08:19:24.882643Z",
     "iopub.status.idle": "2025-08-14T08:19:24.898316Z",
     "shell.execute_reply": "2025-08-14T08:19:24.897531Z",
     "shell.execute_reply.started": "2025-08-14T08:19:24.883000Z"
    }
   },
   "outputs": [],
   "source": [
    "df = pd.read_csv(\"Amazon Customer Reviews.csv\")"
   ]
  },
  {
   "cell_type": "markdown",
   "id": "713926b8-a84f-430c-9d9a-aa8629cd0e55",
   "metadata": {},
   "source": [
    "**--EDA--**"
   ]
  },
  {
   "cell_type": "code",
   "execution_count": 5,
   "id": "d711754b-4592-499a-bafd-c535edb6f61d",
   "metadata": {
    "execution": {
     "iopub.execute_input": "2025-08-14T08:21:40.069537Z",
     "iopub.status.busy": "2025-08-14T08:21:40.069156Z",
     "iopub.status.idle": "2025-08-14T08:21:40.078632Z",
     "shell.execute_reply": "2025-08-14T08:21:40.077971Z",
     "shell.execute_reply.started": "2025-08-14T08:21:40.069515Z"
    }
   },
   "outputs": [
    {
     "data": {
      "text/html": [
       "<div>\n",
       "<style scoped>\n",
       "    .dataframe tbody tr th:only-of-type {\n",
       "        vertical-align: middle;\n",
       "    }\n",
       "\n",
       "    .dataframe tbody tr th {\n",
       "        vertical-align: top;\n",
       "    }\n",
       "\n",
       "    .dataframe thead th {\n",
       "        text-align: right;\n",
       "    }\n",
       "</style>\n",
       "<table border=\"1\" class=\"dataframe\">\n",
       "  <thead>\n",
       "    <tr style=\"text-align: right;\">\n",
       "      <th></th>\n",
       "      <th>reviewer</th>\n",
       "      <th>review</th>\n",
       "    </tr>\n",
       "  </thead>\n",
       "  <tbody>\n",
       "    <tr>\n",
       "      <th>0</th>\n",
       "      <td>Outdoor Enthusiast</td>\n",
       "      <td>A bag helps with carrying the Outland Firebowl...</td>\n",
       "    </tr>\n",
       "    <tr>\n",
       "      <th>1</th>\n",
       "      <td>Outdoor Enthusiast</td>\n",
       "      <td>A bit over 3 years ago, I purchased the 50' Fo...</td>\n",
       "    </tr>\n",
       "    <tr>\n",
       "      <th>2</th>\n",
       "      <td>Outdoor Enthusiast</td>\n",
       "      <td>After having tried the Blackberry Bellini and ...</td>\n",
       "    </tr>\n",
       "    <tr>\n",
       "      <th>3</th>\n",
       "      <td>Ronny Acosta</td>\n",
       "      <td>After overplucking and waxing, I bought this t...</td>\n",
       "    </tr>\n",
       "    <tr>\n",
       "      <th>4</th>\n",
       "      <td>Ronny Acosta</td>\n",
       "      <td>After using this during a very cold hiking tri...</td>\n",
       "    </tr>\n",
       "  </tbody>\n",
       "</table>\n",
       "</div>"
      ],
      "text/plain": [
       "             reviewer                                             review\n",
       "0  Outdoor Enthusiast  A bag helps with carrying the Outland Firebowl...\n",
       "1  Outdoor Enthusiast  A bit over 3 years ago, I purchased the 50' Fo...\n",
       "2  Outdoor Enthusiast  After having tried the Blackberry Bellini and ...\n",
       "3        Ronny Acosta  After overplucking and waxing, I bought this t...\n",
       "4        Ronny Acosta  After using this during a very cold hiking tri..."
      ]
     },
     "execution_count": 5,
     "metadata": {},
     "output_type": "execute_result"
    }
   ],
   "source": [
    "df.head()"
   ]
  },
  {
   "cell_type": "code",
   "execution_count": 8,
   "id": "5d9c1cfe-39a0-48f2-aa7d-067e3a88d7f9",
   "metadata": {
    "execution": {
     "iopub.execute_input": "2025-08-14T08:22:42.928747Z",
     "iopub.status.busy": "2025-08-14T08:22:42.928378Z",
     "iopub.status.idle": "2025-08-14T08:22:42.932651Z",
     "shell.execute_reply": "2025-08-14T08:22:42.931968Z",
     "shell.execute_reply.started": "2025-08-14T08:22:42.928726Z"
    }
   },
   "outputs": [],
   "source": [
    "#Creating a new length column for further analysis\n",
    "df[\"length\"] = df[\"review\"].apply(len)"
   ]
  },
  {
   "cell_type": "code",
   "execution_count": 7,
   "id": "bbababa6-b6a4-45b3-aec0-26ba5a110405",
   "metadata": {
    "execution": {
     "iopub.execute_input": "2025-08-14T08:22:31.870685Z",
     "iopub.status.busy": "2025-08-14T08:22:31.870309Z",
     "iopub.status.idle": "2025-08-14T08:22:31.878211Z",
     "shell.execute_reply": "2025-08-14T08:22:31.877550Z",
     "shell.execute_reply.started": "2025-08-14T08:22:31.870664Z"
    }
   },
   "outputs": [
    {
     "data": {
      "text/html": [
       "<div>\n",
       "<style scoped>\n",
       "    .dataframe tbody tr th:only-of-type {\n",
       "        vertical-align: middle;\n",
       "    }\n",
       "\n",
       "    .dataframe tbody tr th {\n",
       "        vertical-align: top;\n",
       "    }\n",
       "\n",
       "    .dataframe thead th {\n",
       "        text-align: right;\n",
       "    }\n",
       "</style>\n",
       "<table border=\"1\" class=\"dataframe\">\n",
       "  <thead>\n",
       "    <tr style=\"text-align: right;\">\n",
       "      <th></th>\n",
       "      <th>reviewer</th>\n",
       "      <th>review</th>\n",
       "      <th>length</th>\n",
       "    </tr>\n",
       "  </thead>\n",
       "  <tbody>\n",
       "    <tr>\n",
       "      <th>0</th>\n",
       "      <td>Outdoor Enthusiast</td>\n",
       "      <td>A bag helps with carrying the Outland Firebowl...</td>\n",
       "      <td>515</td>\n",
       "    </tr>\n",
       "    <tr>\n",
       "      <th>1</th>\n",
       "      <td>Outdoor Enthusiast</td>\n",
       "      <td>A bit over 3 years ago, I purchased the 50' Fo...</td>\n",
       "      <td>701</td>\n",
       "    </tr>\n",
       "    <tr>\n",
       "      <th>2</th>\n",
       "      <td>Outdoor Enthusiast</td>\n",
       "      <td>After having tried the Blackberry Bellini and ...</td>\n",
       "      <td>546</td>\n",
       "    </tr>\n",
       "    <tr>\n",
       "      <th>3</th>\n",
       "      <td>Ronny Acosta</td>\n",
       "      <td>After overplucking and waxing, I bought this t...</td>\n",
       "      <td>1375</td>\n",
       "    </tr>\n",
       "    <tr>\n",
       "      <th>4</th>\n",
       "      <td>Ronny Acosta</td>\n",
       "      <td>After using this during a very cold hiking tri...</td>\n",
       "      <td>798</td>\n",
       "    </tr>\n",
       "  </tbody>\n",
       "</table>\n",
       "</div>"
      ],
      "text/plain": [
       "             reviewer                                             review  \\\n",
       "0  Outdoor Enthusiast  A bag helps with carrying the Outland Firebowl...   \n",
       "1  Outdoor Enthusiast  A bit over 3 years ago, I purchased the 50' Fo...   \n",
       "2  Outdoor Enthusiast  After having tried the Blackberry Bellini and ...   \n",
       "3        Ronny Acosta  After overplucking and waxing, I bought this t...   \n",
       "4        Ronny Acosta  After using this during a very cold hiking tri...   \n",
       "\n",
       "   length  \n",
       "0     515  \n",
       "1     701  \n",
       "2     546  \n",
       "3    1375  \n",
       "4     798  "
      ]
     },
     "execution_count": 7,
     "metadata": {},
     "output_type": "execute_result"
    }
   ],
   "source": [
    "df.head()"
   ]
  },
  {
   "cell_type": "code",
   "execution_count": 12,
   "id": "8a13e357-e2dd-43a1-a8cc-1631d06f4102",
   "metadata": {
    "execution": {
     "iopub.execute_input": "2025-08-14T08:31:09.519706Z",
     "iopub.status.busy": "2025-08-14T08:31:09.519323Z",
     "iopub.status.idle": "2025-08-14T08:31:10.023539Z",
     "shell.execute_reply": "2025-08-14T08:31:10.022595Z",
     "shell.execute_reply.started": "2025-08-14T08:31:09.519675Z"
    }
   },
   "outputs": [
    {
     "data": {
      "image/png": "[encoded data removed]",
      "text/plain": [
       "<Figure size 640x480 with 1 Axes>"
      ]
     },
     "metadata": {},
     "output_type": "display_data"
    }
   ],
   "source": [
    "#Visualize reviewer distribution\n",
    "sns.countplot(x=\"reviewer\", data=df)\n",
    "plt.title('Distribution of Reviewers')\n",
    "plt.show()"
   ]
  },
  {
   "cell_type": "markdown",
   "id": "b0565a79-c100-4b58-bdeb-4b85cbe9fe89",
   "metadata": {},
   "source": [
    "The data set is well balanced between two data points which is good for model building."
   ]
  },
  {
   "cell_type": "code",
   "execution_count": 13,
   "id": "3272a7fb-d2e4-483f-b4d6-fb0e5a13af88",
   "metadata": {
    "execution": {
     "iopub.execute_input": "2025-08-14T08:31:39.383722Z",
     "iopub.status.busy": "2025-08-14T08:31:39.382764Z",
     "iopub.status.idle": "2025-08-14T08:31:39.685972Z",
     "shell.execute_reply": "2025-08-14T08:31:39.685233Z",
     "shell.execute_reply.started": "2025-08-14T08:31:39.383692Z"
    }
   },
   "outputs": [
    {
     "data": {
      "image/png": "[encoded data removed]",
      "text/plain": [
       "<Figure size 1200x600 with 1 Axes>"
      ]
     },
     "metadata": {},
     "output_type": "display_data"
    }
   ],
   "source": [
    "# Visualize review length distribution\n",
    "df.hist(column='length', bins=50, figsize=(12,6))\n",
    "plt.title('Review Length Distribution')\n",
    "plt.xlabel('Length (characters)')\n",
    "plt.ylabel('Frequency')\n",
    "plt.show()"
   ]
  },
  {
   "cell_type": "code",
   "execution_count": 14,
   "id": "1bbef8db-7076-47ed-862a-49e96f876a4c",
   "metadata": {
    "execution": {
     "iopub.execute_input": "2025-08-14T08:32:04.500372Z",
     "iopub.status.busy": "2025-08-14T08:32:04.496650Z",
     "iopub.status.idle": "2025-08-14T08:32:05.304269Z",
     "shell.execute_reply": "2025-08-14T08:32:05.303161Z",
     "shell.execute_reply.started": "2025-08-14T08:32:04.500325Z"
    }
   },
   "outputs": [
    {
     "data": {
      "image/png": "[encoded data removed]",
      "text/plain": [
       "<Figure size 1400x600 with 2 Axes>"
      ]
     },
     "metadata": {},
     "output_type": "display_data"
    }
   ],
   "source": [
    "# Visualize review length by reviewer\n",
    "df.hist(column='length', by='reviewer', bins=50, figsize=(14,6))\n",
    "plt.suptitle('Review Length Distribution by Reviewer')\n",
    "plt.show()"
   ]
  },
  {
   "cell_type": "code",
   "execution_count": 15,
   "id": "8affc57c-66ad-4518-91ae-8c42d31c2e4e",
   "metadata": {
    "execution": {
     "iopub.execute_input": "2025-08-14T08:33:17.464330Z",
     "iopub.status.busy": "2025-08-14T08:33:17.463947Z",
     "iopub.status.idle": "2025-08-14T08:33:17.473305Z",
     "shell.execute_reply": "2025-08-14T08:33:17.472707Z",
     "shell.execute_reply.started": "2025-08-14T08:33:17.464305Z"
    }
   },
   "outputs": [
    {
     "data": {
      "text/html": [
       "<div>\n",
       "<style scoped>\n",
       "    .dataframe tbody tr th:only-of-type {\n",
       "        vertical-align: middle;\n",
       "    }\n",
       "\n",
       "    .dataframe tbody tr th {\n",
       "        vertical-align: top;\n",
       "    }\n",
       "\n",
       "    .dataframe thead th {\n",
       "        text-align: right;\n",
       "    }\n",
       "</style>\n",
       "<table border=\"1\" class=\"dataframe\">\n",
       "  <thead>\n",
       "    <tr style=\"text-align: right;\">\n",
       "      <th></th>\n",
       "      <th>reviewer</th>\n",
       "      <th>review</th>\n",
       "      <th>length</th>\n",
       "    </tr>\n",
       "  </thead>\n",
       "  <tbody>\n",
       "    <tr>\n",
       "      <th>65</th>\n",
       "      <td>Outdoor Enthusiast</td>\n",
       "      <td>I am an avid hiker, camper, and wilderness bac...</td>\n",
       "      <td>2395</td>\n",
       "    </tr>\n",
       "    <tr>\n",
       "      <th>154</th>\n",
       "      <td>Outdoor Enthusiast</td>\n",
       "      <td>I have been doing DIY projects for more than a...</td>\n",
       "      <td>3183</td>\n",
       "    </tr>\n",
       "    <tr>\n",
       "      <th>244</th>\n",
       "      <td>Outdoor Enthusiast</td>\n",
       "      <td>I wanted to get a gazebo/pergola for some time...</td>\n",
       "      <td>2145</td>\n",
       "    </tr>\n",
       "    <tr>\n",
       "      <th>249</th>\n",
       "      <td>Outdoor Enthusiast</td>\n",
       "      <td>I was very, VERY skeptical of these massage gu...</td>\n",
       "      <td>2481</td>\n",
       "    </tr>\n",
       "    <tr>\n",
       "      <th>262</th>\n",
       "      <td>Outdoor Enthusiast</td>\n",
       "      <td>It took me a loooong time trying to decide whi...</td>\n",
       "      <td>2639</td>\n",
       "    </tr>\n",
       "    <tr>\n",
       "      <th>310</th>\n",
       "      <td>Outdoor Enthusiast</td>\n",
       "      <td>Our studio's business has expanded a bit and w...</td>\n",
       "      <td>3426</td>\n",
       "    </tr>\n",
       "    <tr>\n",
       "      <th>346</th>\n",
       "      <td>Outdoor Enthusiast</td>\n",
       "      <td>The Pimax Vision was introduced as a Kickstart...</td>\n",
       "      <td>2980</td>\n",
       "    </tr>\n",
       "    <tr>\n",
       "      <th>494</th>\n",
       "      <td>Outdoor Enthusiast</td>\n",
       "      <td>You might wonder, what is the difference betwe...</td>\n",
       "      <td>2372</td>\n",
       "    </tr>\n",
       "  </tbody>\n",
       "</table>\n",
       "</div>"
      ],
      "text/plain": [
       "               reviewer                                             review  \\\n",
       "65   Outdoor Enthusiast  I am an avid hiker, camper, and wilderness bac...   \n",
       "154  Outdoor Enthusiast  I have been doing DIY projects for more than a...   \n",
       "244  Outdoor Enthusiast  I wanted to get a gazebo/pergola for some time...   \n",
       "249  Outdoor Enthusiast  I was very, VERY skeptical of these massage gu...   \n",
       "262  Outdoor Enthusiast  It took me a loooong time trying to decide whi...   \n",
       "310  Outdoor Enthusiast  Our studio's business has expanded a bit and w...   \n",
       "346  Outdoor Enthusiast  The Pimax Vision was introduced as a Kickstart...   \n",
       "494  Outdoor Enthusiast  You might wonder, what is the difference betwe...   \n",
       "\n",
       "     length  \n",
       "65     2395  \n",
       "154    3183  \n",
       "244    2145  \n",
       "249    2481  \n",
       "262    2639  \n",
       "310    3426  \n",
       "346    2980  \n",
       "494    2372  "
      ]
     },
     "execution_count": 15,
     "metadata": {},
     "output_type": "execute_result"
    }
   ],
   "source": [
    "df[df[\"length\"] > 2000]"
   ]
  },
  {
   "cell_type": "markdown",
   "id": "e3c21d74-bf63-464b-91a9-8e33bf778e41",
   "metadata": {},
   "source": [
    "As we can see here Outdoor Enthusiast tend to write longer reviews."
   ]
  },
  {
   "cell_type": "code",
   "execution_count": 16,
   "id": "390484c2-6c2c-440d-b114-4fd44d72c034",
   "metadata": {
    "execution": {
     "iopub.execute_input": "2025-08-14T08:33:49.082981Z",
     "iopub.status.busy": "2025-08-14T08:33:49.082622Z",
     "iopub.status.idle": "2025-08-14T08:33:49.088234Z",
     "shell.execute_reply": "2025-08-14T08:33:49.087573Z",
     "shell.execute_reply.started": "2025-08-14T08:33:49.082957Z"
    }
   },
   "outputs": [
    {
     "name": "stdout",
     "output_type": "stream",
     "text": [
      "Our studio's business has expanded a bit and we purchased an additional set. Our original review for the 2-pack is the same as for this 3-pack. I had been a professional photographer since 2008 and retired six years ago to focus on being as good of a father to my children as possible. That did not mean hanging up my cameras. I still use them to photograph my kids as they grew through the years. Towards the end of my photography career, I traded my bulb/umbrella setup for a RGB LED based lighting system instead, primarily for the lighter weight, more compact size, and battery portability. As a bonus, I liked the ability to control the lights via a Bluetooth-connected smartphone app without having to interrupt my shoots with the infant/toddler kids. RGB LED lights allow you to simulate and color-correct certain lighting conditions. From cool daylight (5600 Kelvin) to warm sunsets (3200K) and control over the intensity, hue, and saturation of the lights, the variety of scenes you could use this light kit with is quite open ended. The trick, as always with photography or videography, is to understand how light works and to use that to your advantage. The GVM 1200D is a very nice upgrade over its predecessor with over 3.5x the number of RGB LEDs, providing more consistent, smooth control of the intensity, color, hue/saturation of the produced light. A built-in diffuser helps cast softer shadows and make skin look more flattering on the subjects. Like its older model, the lights can be set as Master and Slaves so all the lights can be controlled together through the Bluetooth-connected \"GVM LED\" app (available on both iOS and Android). It also has the same amount of \"lighting scenes\" (8) that are activated through the app, though their use cases are limited to special occasions. The new, red-colored coating of the aluminum frame makes it stand out (compared to the black of its predecessor), and that could potentially cause a small, red color cast on the subject in certain shooting situations. I would have preferred that GVM kept everything black, but this is just a minor concern. 60W AC adapters power the lights, while the LEDs themselves are rated to output 50W (up from 40W of previous models). They can also be battery operated with Sony F750/970 batteries (not included) for on-location shoots anywhere outside for that perfect, low-light shot or video footage. Brightness, according to GVM, is rated at 22,000 lux at 0.5m (1.6') or 7,300 lux at 1m (3.3'). What does that mean? Lux is the intensity of light at a specific location away from the source. The farther away you travel, the lower the Lux rating, whereas the Lumen (light intensity) remains unchanged. In other words, these lights produce an intense amount of luminosity that can produce enough to fill an entire room. The lights' panels direct where the light should go and also help minimize spill onto the surrounding. Impressive still is the lifetime warranty with a 3-year, full refund guarantee. That is just unheard of and shows that the company had been standing behind its products (and why I had been a fan of GVM for years. The light stands fold relatively compact and are quick to deploy. The light frames can be mounted to the stands in two ways to accommodate different lighting angles. When you finish a shoot, be sure you always turn off the lights. You do not want to leave them on and accidentally cause a fire.\n"
     ]
    }
   ],
   "source": [
    "#Checking the longest review\n",
    "print(df[df[\"length\"] == df[\"length\"].max()][\"review\"].iloc[0])"
   ]
  },
  {
   "cell_type": "markdown",
   "id": "ae068ec3-bfa4-4998-be4b-4ed79f495c97",
   "metadata": {},
   "source": [
    "**--Data Preprocessing and Modeling--**"
   ]
  },
  {
   "cell_type": "code",
   "execution_count": 33,
   "id": "8c459979-8e98-4f5a-badf-c7905fd5f986",
   "metadata": {
    "execution": {
     "iopub.execute_input": "2025-08-14T08:44:28.520894Z",
     "iopub.status.busy": "2025-08-14T08:44:28.520524Z",
     "iopub.status.idle": "2025-08-14T08:44:28.524947Z",
     "shell.execute_reply": "2025-08-14T08:44:28.524127Z",
     "shell.execute_reply.started": "2025-08-14T08:44:28.520871Z"
    }
   },
   "outputs": [],
   "source": [
    "import re #for numbers\n",
    "import string #for punctuations\n",
    "from sklearn.pipeline import Pipeline \n",
    "from sklearn.feature_extraction.text import CountVectorizer, TfidfTransformer\n",
    "from sklearn.naive_bayes import MultinomialNB\n",
    "import nltk\n",
    "from nltk.corpus import stopwords"
   ]
  },
  {
   "cell_type": "code",
   "execution_count": 34,
   "id": "ee8b4b5f-cf8d-40f5-a4ba-32c3aaaf72df",
   "metadata": {
    "execution": {
     "iopub.execute_input": "2025-08-14T08:44:37.465230Z",
     "iopub.status.busy": "2025-08-14T08:44:37.464835Z",
     "iopub.status.idle": "2025-08-14T08:44:37.470672Z",
     "shell.execute_reply": "2025-08-14T08:44:37.469911Z",
     "shell.execute_reply.started": "2025-08-14T08:44:37.465206Z"
    }
   },
   "outputs": [
    {
     "name": "stderr",
     "output_type": "stream",
     "text": [
      "[nltk_data] Downloading package stopwords to /home/31ebe8bc-\n",
      "[nltk_data]     bef4-44ae-a16d-35cc4fcd307e/nltk_data...\n",
      "[nltk_data]   Package stopwords is already up-to-date!\n"
     ]
    },
    {
     "data": {
      "text/plain": [
       "True"
      ]
     },
     "execution_count": 34,
     "metadata": {},
     "output_type": "execute_result"
    }
   ],
   "source": [
    "# Download NLTK stopwords\n",
    "nltk.download('stopwords')"
   ]
  },
  {
   "cell_type": "code",
   "execution_count": 35,
   "id": "69b38d54-bd5d-4516-a6d3-1a5b8b740b8d",
   "metadata": {
    "execution": {
     "iopub.execute_input": "2025-08-14T08:44:42.681911Z",
     "iopub.status.busy": "2025-08-14T08:44:42.681508Z",
     "iopub.status.idle": "2025-08-14T08:44:42.687074Z",
     "shell.execute_reply": "2025-08-14T08:44:42.686335Z",
     "shell.execute_reply.started": "2025-08-14T08:44:42.681885Z"
    }
   },
   "outputs": [],
   "source": [
    "# Define text cleaning function\n",
    "def text_cleaner(text):\n",
    "    # Remove numbers\n",
    "    wo_num = re.sub(r'\\w*\\d\\w*', '', text)\n",
    "    # Remove punctuation\n",
    "    wo_num_punc = [char for char in wo_num if char not in string.punctuation]\n",
    "    wo_num_punc = ''.join(wo_num_punc)\n",
    "    # Remove stopwords\n",
    "    wo_num_punc_sw = [word for word in wo_num_punc.split() if word.lower() not in stopwords.words('english')]\n",
    "    return wo_num_punc_sw"
   ]
  },
  {
   "cell_type": "code",
   "execution_count": 36,
   "id": "738530ec-1276-4e07-a151-90f3f48c825e",
   "metadata": {
    "execution": {
     "iopub.execute_input": "2025-08-14T08:44:43.126392Z",
     "iopub.status.busy": "2025-08-14T08:44:43.126016Z",
     "iopub.status.idle": "2025-08-14T08:44:43.130313Z",
     "shell.execute_reply": "2025-08-14T08:44:43.129672Z",
     "shell.execute_reply.started": "2025-08-14T08:44:43.126368Z"
    }
   },
   "outputs": [],
   "source": [
    "# Create pipeline: Vectorize -> TF-IDF -> Naive Bayes\n",
    "pipeline = Pipeline([\n",
    "    ('bow', CountVectorizer(analyzer=text_cleaner)),  # Convert text to word counts\n",
    "    ('tfidf', TfidfTransformer()),  # Weight words by importance\n",
    "    ('NB Classifier', MultinomialNB())  # Classify with Naive Bayes\n",
    "])"
   ]
  },
  {
   "cell_type": "code",
   "execution_count": 37,
   "id": "27607a33-72f8-46bc-aba9-e8989cd0b364",
   "metadata": {
    "execution": {
     "iopub.execute_input": "2025-08-14T08:44:44.195499Z",
     "iopub.status.busy": "2025-08-14T08:44:44.195113Z",
     "iopub.status.idle": "2025-08-14T08:44:44.199041Z",
     "shell.execute_reply": "2025-08-14T08:44:44.198385Z",
     "shell.execute_reply.started": "2025-08-14T08:44:44.195474Z"
    }
   },
   "outputs": [],
   "source": [
    "from sklearn.model_selection import train_test_split"
   ]
  },
  {
   "cell_type": "code",
   "execution_count": 38,
   "id": "74cccfbc-bc15-464b-a3cd-3604b69b9959",
   "metadata": {
    "execution": {
     "iopub.execute_input": "2025-08-14T08:44:45.002913Z",
     "iopub.status.busy": "2025-08-14T08:44:45.002542Z",
     "iopub.status.idle": "2025-08-14T08:44:45.008558Z",
     "shell.execute_reply": "2025-08-14T08:44:45.007775Z",
     "shell.execute_reply.started": "2025-08-14T08:44:45.002889Z"
    }
   },
   "outputs": [],
   "source": [
    "# Split data into train (90%) and test (10%)\n",
    "X_train, X_test, y_train, y_test = train_test_split(df['review'], df['reviewer'], test_size=0.10, random_state=42)"
   ]
  },
  {
   "cell_type": "code",
   "execution_count": 39,
   "id": "a2ad19c3-17b9-40be-a45b-4127b91a86de",
   "metadata": {
    "execution": {
     "iopub.execute_input": "2025-08-14T08:44:46.224368Z",
     "iopub.status.busy": "2025-08-14T08:44:46.223980Z",
     "iopub.status.idle": "2025-08-14T08:45:08.703061Z",
     "shell.execute_reply": "2025-08-14T08:45:08.701248Z",
     "shell.execute_reply.started": "2025-08-14T08:44:46.224346Z"
    }
   },
   "outputs": [
    {
     "data": {
      "text/html": [
       "<style>#sk-container-id-1 {color: black;}#sk-container-id-1 pre{padding: 0;}#sk-container-id-1 div.sk-toggleable {background-color: white;}#sk-container-id-1 label.sk-toggleable__label {cursor: pointer;display: block;width: 100%;margin-bottom: 0;padding: 0.3em;box-sizing: border-box;text-align: center;}#sk-container-id-1 label.sk-toggleable__label-arrow:before {content: \"▸\";float: left;margin-right: 0.25em;color: #696969;}#sk-container-id-1 label.sk-toggleable__label-arrow:hover:before {color: black;}#sk-container-id-1 div.sk-estimator:hover label.sk-toggleable__label-arrow:before {color: black;}#sk-container-id-1 div.sk-toggleable__content {max-height: 0;max-width: 0;overflow: hidden;text-align: left;background-color: #f0f8ff;}#sk-container-id-1 div.sk-toggleable__content pre {margin: 0.2em;color: black;border-radius: 0.25em;background-color: #f0f8ff;}#sk-container-id-1 input.sk-toggleable__control:checked~div.sk-toggleable__content {max-height: 200px;max-width: 100%;overflow: auto;}#sk-container-id-1 input.sk-toggleable__control:checked~label.sk-toggleable__label-arrow:before {content: \"▾\";}#sk-container-id-1 div.sk-estimator input.sk-toggleable__control:checked~label.sk-toggleable__label {background-color: #d4ebff;}#sk-container-id-1 div.sk-label input.sk-toggleable__control:checked~label.sk-toggleable__label {background-color: #d4ebff;}#sk-container-id-1 input.sk-hidden--visually {border: 0;clip: rect(1px 1px 1px 1px);clip: rect(1px, 1px, 1px, 1px);height: 1px;margin: -1px;overflow: hidden;padding: 0;position: absolute;width: 1px;}#sk-container-id-1 div.sk-estimator {font-family: monospace;background-color: #f0f8ff;border: 1px dotted black;border-radius: 0.25em;box-sizing: border-box;margin-bottom: 0.5em;}#sk-container-id-1 div.sk-estimator:hover {background-color: #d4ebff;}#sk-container-id-1 div.sk-parallel-item::after {content: \"\";width: 100%;border-bottom: 1px solid gray;flex-grow: 1;}#sk-container-id-1 div.sk-label:hover label.sk-toggleable__label {background-color: #d4ebff;}#sk-container-id-1 div.sk-serial::before {content: \"\";position: absolute;border-left: 1px solid gray;box-sizing: border-box;top: 0;bottom: 0;left: 50%;z-index: 0;}#sk-container-id-1 div.sk-serial {display: flex;flex-direction: column;align-items: center;background-color: white;padding-right: 0.2em;padding-left: 0.2em;position: relative;}#sk-container-id-1 div.sk-item {position: relative;z-index: 1;}#sk-container-id-1 div.sk-parallel {display: flex;align-items: stretch;justify-content: center;background-color: white;position: relative;}#sk-container-id-1 div.sk-item::before, #sk-container-id-1 div.sk-parallel-item::before {content: \"\";position: absolute;border-left: 1px solid gray;box-sizing: border-box;top: 0;bottom: 0;left: 50%;z-index: -1;}#sk-container-id-1 div.sk-parallel-item {display: flex;flex-direction: column;z-index: 1;position: relative;background-color: white;}#sk-container-id-1 div.sk-parallel-item:first-child::after {align-self: flex-end;width: 50%;}#sk-container-id-1 div.sk-parallel-item:last-child::after {align-self: flex-start;width: 50%;}#sk-container-id-1 div.sk-parallel-item:only-child::after {width: 0;}#sk-container-id-1 div.sk-dashed-wrapped {border: 1px dashed gray;margin: 0 0.4em 0.5em 0.4em;box-sizing: border-box;padding-bottom: 0.4em;background-color: white;}#sk-container-id-1 div.sk-label label {font-family: monospace;font-weight: bold;display: inline-block;line-height: 1.2em;}#sk-container-id-1 div.sk-label-container {text-align: center;}#sk-container-id-1 div.sk-container {/* jupyter's `normalize.less` sets `[hidden] { display: none; }` but bootstrap.min.css set `[hidden] { display: none !important; }` so we also need the `!important` here to be able to override the default hidden behavior on the sphinx rendered scikit-learn.org. See: https://github.com/scikit-learn/scikit-learn/issues/21755 */display: inline-block !important;position: relative;}#sk-container-id-1 div.sk-text-repr-fallback {display: none;}</style><div id=\"sk-container-id-1\" class=\"sk-top-container\"><div class=\"sk-text-repr-fallback\"><pre>Pipeline(steps=[(&#x27;bow&#x27;,\n",
       "                 CountVectorizer(analyzer=&lt;function text_cleaner at 0x74a7779e8c10&gt;)),\n",
       "                (&#x27;tfidf&#x27;, TfidfTransformer()),\n",
       "                (&#x27;NB Classifier&#x27;, MultinomialNB())])</pre><b>In a Jupyter environment, please rerun this cell to show the HTML representation or trust the notebook. <br />On GitHub, the HTML representation is unable to render, please try loading this page with nbviewer.org.</b></div><div class=\"sk-container\" hidden><div class=\"sk-item sk-dashed-wrapped\"><div class=\"sk-label-container\"><div class=\"sk-label sk-toggleable\"><input class=\"sk-toggleable__control sk-hidden--visually\" id=\"sk-estimator-id-1\" type=\"checkbox\" ><label for=\"sk-estimator-id-1\" class=\"sk-toggleable__label sk-toggleable__label-arrow\">Pipeline</label><div class=\"sk-toggleable__content\"><pre>Pipeline(steps=[(&#x27;bow&#x27;,\n",
       "                 CountVectorizer(analyzer=&lt;function text_cleaner at 0x74a7779e8c10&gt;)),\n",
       "                (&#x27;tfidf&#x27;, TfidfTransformer()),\n",
       "                (&#x27;NB Classifier&#x27;, MultinomialNB())])</pre></div></div></div><div class=\"sk-serial\"><div class=\"sk-item\"><div class=\"sk-estimator sk-toggleable\"><input class=\"sk-toggleable__control sk-hidden--visually\" id=\"sk-estimator-id-2\" type=\"checkbox\" ><label for=\"sk-estimator-id-2\" class=\"sk-toggleable__label sk-toggleable__label-arrow\">CountVectorizer</label><div class=\"sk-toggleable__content\"><pre>CountVectorizer(analyzer=&lt;function text_cleaner at 0x74a7779e8c10&gt;)</pre></div></div></div><div class=\"sk-item\"><div class=\"sk-estimator sk-toggleable\"><input class=\"sk-toggleable__control sk-hidden--visually\" id=\"sk-estimator-id-3\" type=\"checkbox\" ><label for=\"sk-estimator-id-3\" class=\"sk-toggleable__label sk-toggleable__label-arrow\">TfidfTransformer</label><div class=\"sk-toggleable__content\"><pre>TfidfTransformer()</pre></div></div></div><div class=\"sk-item\"><div class=\"sk-estimator sk-toggleable\"><input class=\"sk-toggleable__control sk-hidden--visually\" id=\"sk-estimator-id-4\" type=\"checkbox\" ><label for=\"sk-estimator-id-4\" class=\"sk-toggleable__label sk-toggleable__label-arrow\">MultinomialNB</label><div class=\"sk-toggleable__content\"><pre>MultinomialNB()</pre></div></div></div></div></div></div></div>"
      ],
      "text/plain": [
       "Pipeline(steps=[('bow',\n",
       "                 CountVectorizer(analyzer=<function text_cleaner at 0x74a7779e8c10>)),\n",
       "                ('tfidf', TfidfTransformer()),\n",
       "                ('NB Classifier', MultinomialNB())])"
      ]
     },
     "execution_count": 39,
     "metadata": {},
     "output_type": "execute_result"
    }
   ],
   "source": [
    "# Train the model\n",
    "pipeline.fit(X_train, y_train)"
   ]
  },
  {
   "cell_type": "code",
   "execution_count": 40,
   "id": "f2034413-66b8-494f-bc4d-b9b0f10c69a4",
   "metadata": {
    "execution": {
     "iopub.execute_input": "2025-08-14T08:55:17.816400Z",
     "iopub.status.busy": "2025-08-14T08:55:17.816007Z",
     "iopub.status.idle": "2025-08-14T08:55:19.506948Z",
     "shell.execute_reply": "2025-08-14T08:55:19.506228Z",
     "shell.execute_reply.started": "2025-08-14T08:55:17.816378Z"
    }
   },
   "outputs": [],
   "source": [
    "# Predict on test set\n",
    "predictions = pipeline.predict(X_test)"
   ]
  },
  {
   "cell_type": "code",
   "execution_count": 42,
   "id": "bb4f1b1d-0b69-4c1f-8149-93d607f25a6e",
   "metadata": {
    "execution": {
     "iopub.execute_input": "2025-08-14T08:56:04.154592Z",
     "iopub.status.busy": "2025-08-14T08:56:04.154172Z",
     "iopub.status.idle": "2025-08-14T08:56:04.160951Z",
     "shell.execute_reply": "2025-08-14T08:56:04.160089Z",
     "shell.execute_reply.started": "2025-08-14T08:56:04.154560Z"
    }
   },
   "outputs": [],
   "source": [
    "from sklearn.metrics import classification_report, confusion_matrix"
   ]
  },
  {
   "cell_type": "code",
   "execution_count": 43,
   "id": "4329f1f3-35ad-4107-9620-74f1ca1efaee",
   "metadata": {
    "execution": {
     "iopub.execute_input": "2025-08-14T08:56:04.874628Z",
     "iopub.status.busy": "2025-08-14T08:56:04.874219Z",
     "iopub.status.idle": "2025-08-14T08:56:04.905221Z",
     "shell.execute_reply": "2025-08-14T08:56:04.904357Z",
     "shell.execute_reply.started": "2025-08-14T08:56:04.874595Z"
    }
   },
   "outputs": [
    {
     "name": "stdout",
     "output_type": "stream",
     "text": [
      "                    precision    recall  f1-score   support\n",
      "\n",
      "Outdoor Enthusiast       1.00      0.88      0.94        25\n",
      "      Ronny Acosta       0.89      1.00      0.94        25\n",
      "\n",
      "          accuracy                           0.94        50\n",
      "         macro avg       0.95      0.94      0.94        50\n",
      "      weighted avg       0.95      0.94      0.94        50\n",
      "\n",
      "Confusion Matrix:\n",
      "[[22  3]\n",
      " [ 0 25]]\n"
     ]
    }
   ],
   "source": [
    "# Evaluate model performance\n",
    "print(classification_report(y_test, predictions))\n",
    "print('Confusion Matrix:')\n",
    "print(confusion_matrix(y_test, predictions))"
   ]
  },
  {
   "cell_type": "code",
   "execution_count": null,
   "id": "9badbf35-abf4-44fa-8a62-035e71c30a3e",
   "metadata": {},
   "outputs": [],
   "source": []
  }
 ],
 "metadata": {
  "kernelspec": {
   "display_name": "anaconda-ai-2024.04-py310",
   "language": "python",
   "name": "conda-env-anaconda-ai-2024.04-py310-py"
  },
  "language_info": {
   "codemirror_mode": {
    "name": "ipython",
    "version": 3
   },
   "file_extension": ".py",
   "mimetype": "text/x-python",
   "name": "python",
   "nbconvert_exporter": "python",
   "pygments_lexer": "ipython3",
   "version": "3.10.13"
  }
 },
 "nbformat": 4,
 "nbformat_minor": 5
}
